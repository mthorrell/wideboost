{
 "cells": [
  {
   "cell_type": "code",
   "execution_count": 1,
   "metadata": {},
   "outputs": [],
   "source": [
    "import time\n",
    "import numpy as np\n",
    "import xgboost as xgb\n",
    "from wideboost.wrappers import wxgb\n",
    "\n",
    "import tensorflow_datasets as tfds\n",
    "from matplotlib import pyplot as plt\n",
    "\n",
    "(ds_train, ds_test), ds_info = tfds.load(\n",
    "    'mnist',\n",
    "    split=['train', 'test'],\n",
    "    shuffle_files=False,\n",
    "    as_supervised=True,\n",
    "    with_info=True,\n",
    ")\n",
    "\n",
    "for i in ds_train.batch(60000):\n",
    "    a = i\n",
    "    \n",
    "for i in ds_test.batch(60000):\n",
    "    b = i"
   ]
  },
  {
   "cell_type": "code",
   "execution_count": 2,
   "metadata": {},
   "outputs": [],
   "source": [
    "xtrain = a[0].numpy().reshape([-1,28*28])\n",
    "ytrain = a[1].numpy()\n",
    "\n",
    "xtest = b[0].numpy().reshape([-1,28*28])\n",
    "ytest = b[1].numpy()\n",
    "\n",
    "dtrain = xgb.DMatrix(xtrain,label=ytrain)\n",
    "dtest = xgb.DMatrix(xtest,label=ytest)"
   ]
  },
  {
   "cell_type": "code",
   "execution_count": 10,
   "metadata": {},
   "outputs": [
    {
     "name": "stdout",
     "output_type": "stream",
     "text": [
      "[0]\ttrain-merror:0.40557\ttest-merror:0.40420\n",
      "[1]\ttrain-merror:0.32860\ttest-merror:0.32830\n",
      "[2]\ttrain-merror:0.28185\ttest-merror:0.28420\n",
      "[3]\ttrain-merror:0.25443\ttest-merror:0.25260\n",
      "[4]\ttrain-merror:0.23482\ttest-merror:0.23200\n",
      "[5]\ttrain-merror:0.22768\ttest-merror:0.22600\n",
      "[6]\ttrain-merror:0.21608\ttest-merror:0.21250\n",
      "[7]\ttrain-merror:0.20887\ttest-merror:0.20340\n",
      "[8]\ttrain-merror:0.20162\ttest-merror:0.19830\n",
      "[9]\ttrain-merror:0.19633\ttest-merror:0.19120\n",
      "[10]\ttrain-merror:0.18933\ttest-merror:0.18570\n",
      "[11]\ttrain-merror:0.18567\ttest-merror:0.18010\n",
      "[12]\ttrain-merror:0.18072\ttest-merror:0.17610\n",
      "[13]\ttrain-merror:0.17565\ttest-merror:0.17180\n",
      "[14]\ttrain-merror:0.17158\ttest-merror:0.16660\n",
      "[15]\ttrain-merror:0.16703\ttest-merror:0.16140\n",
      "[16]\ttrain-merror:0.16198\ttest-merror:0.15620\n",
      "[17]\ttrain-merror:0.15812\ttest-merror:0.15350\n",
      "[18]\ttrain-merror:0.15417\ttest-merror:0.14940\n",
      "[19]\ttrain-merror:0.15183\ttest-merror:0.14910\n",
      "[20]\ttrain-merror:0.14773\ttest-merror:0.14610\n",
      "[21]\ttrain-merror:0.14475\ttest-merror:0.14180\n",
      "[22]\ttrain-merror:0.14238\ttest-merror:0.13850\n",
      "[23]\ttrain-merror:0.13885\ttest-merror:0.13600\n",
      "[24]\ttrain-merror:0.13722\ttest-merror:0.13350\n",
      "[25]\ttrain-merror:0.13473\ttest-merror:0.13210\n",
      "[26]\ttrain-merror:0.13248\ttest-merror:0.13060\n",
      "[27]\ttrain-merror:0.13033\ttest-merror:0.12900\n",
      "[28]\ttrain-merror:0.12750\ttest-merror:0.12660\n",
      "[29]\ttrain-merror:0.12518\ttest-merror:0.12320\n",
      "[30]\ttrain-merror:0.12270\ttest-merror:0.12210\n",
      "[31]\ttrain-merror:0.12110\ttest-merror:0.11970\n",
      "[32]\ttrain-merror:0.11897\ttest-merror:0.11900\n",
      "[33]\ttrain-merror:0.11718\ttest-merror:0.11700\n",
      "[34]\ttrain-merror:0.11573\ttest-merror:0.11570\n",
      "[35]\ttrain-merror:0.11423\ttest-merror:0.11420\n",
      "[36]\ttrain-merror:0.11282\ttest-merror:0.11220\n",
      "[37]\ttrain-merror:0.11112\ttest-merror:0.11210\n",
      "[38]\ttrain-merror:0.10968\ttest-merror:0.11040\n",
      "[39]\ttrain-merror:0.10870\ttest-merror:0.10910\n",
      "[40]\ttrain-merror:0.10752\ttest-merror:0.10770\n",
      "[41]\ttrain-merror:0.10617\ttest-merror:0.10580\n",
      "[42]\ttrain-merror:0.10448\ttest-merror:0.10370\n",
      "[43]\ttrain-merror:0.10345\ttest-merror:0.10340\n",
      "[44]\ttrain-merror:0.10217\ttest-merror:0.10190\n",
      "[45]\ttrain-merror:0.10118\ttest-merror:0.10170\n",
      "[46]\ttrain-merror:0.09913\ttest-merror:0.10010\n",
      "[47]\ttrain-merror:0.09830\ttest-merror:0.09830\n",
      "[48]\ttrain-merror:0.09733\ttest-merror:0.09850\n",
      "[49]\ttrain-merror:0.09635\ttest-merror:0.09660\n",
      "CPU times: user 15min 36s, sys: 4.26 s, total: 15min 40s\n",
      "Wall time: 4min 32s\n"
     ]
    }
   ],
   "source": [
    "%%time\n",
    "param = {'max_depth':2, 'eta':0.2, 'objective':'multi:softmax','eval_metric':['merror'], 'num_class':10 }\n",
    "num_round = 50\n",
    "watchlist = [(dtrain,'train'),(dtest,'test')]\n",
    "xgb_results = dict()\n",
    "bst = xgb.train(param, dtrain, num_round,watchlist,evals_result=xgb_results)"
   ]
  },
  {
   "cell_type": "code",
   "execution_count": 4,
   "metadata": {},
   "outputs": [
    {
     "name": "stdout",
     "output_type": "stream",
     "text": [
      "[0]\ttrain-merror:0.40557\ttest-merror:0.40420\n",
      "[1]\ttrain-merror:0.32860\ttest-merror:0.32830\n",
      "[2]\ttrain-merror:0.28187\ttest-merror:0.28420\n",
      "[3]\ttrain-merror:0.25488\ttest-merror:0.25290\n",
      "[4]\ttrain-merror:0.23483\ttest-merror:0.23210\n",
      "[5]\ttrain-merror:0.22772\ttest-merror:0.22610\n",
      "[6]\ttrain-merror:0.21600\ttest-merror:0.21240\n",
      "[7]\ttrain-merror:0.20888\ttest-merror:0.20320\n",
      "[8]\ttrain-merror:0.20163\ttest-merror:0.19830\n",
      "[9]\ttrain-merror:0.19638\ttest-merror:0.19110\n",
      "[10]\ttrain-merror:0.18943\ttest-merror:0.18570\n",
      "[11]\ttrain-merror:0.18567\ttest-merror:0.18030\n",
      "[12]\ttrain-merror:0.18073\ttest-merror:0.17600\n",
      "[13]\ttrain-merror:0.17568\ttest-merror:0.17180\n",
      "[14]\ttrain-merror:0.17165\ttest-merror:0.16650\n",
      "[15]\ttrain-merror:0.16685\ttest-merror:0.16110\n",
      "[16]\ttrain-merror:0.16135\ttest-merror:0.15640\n",
      "[17]\ttrain-merror:0.15745\ttest-merror:0.15230\n",
      "[18]\ttrain-merror:0.15377\ttest-merror:0.14930\n",
      "[19]\ttrain-merror:0.15082\ttest-merror:0.14760\n",
      "[20]\ttrain-merror:0.14777\ttest-merror:0.14350\n",
      "[21]\ttrain-merror:0.14408\ttest-merror:0.14200\n",
      "[22]\ttrain-merror:0.14183\ttest-merror:0.13870\n",
      "[23]\ttrain-merror:0.13895\ttest-merror:0.13740\n",
      "[24]\ttrain-merror:0.13638\ttest-merror:0.13420\n",
      "[25]\ttrain-merror:0.13407\ttest-merror:0.13220\n",
      "[26]\ttrain-merror:0.13188\ttest-merror:0.13030\n",
      "[27]\ttrain-merror:0.12983\ttest-merror:0.12850\n",
      "[28]\ttrain-merror:0.12802\ttest-merror:0.12620\n",
      "[29]\ttrain-merror:0.12573\ttest-merror:0.12510\n",
      "[30]\ttrain-merror:0.12325\ttest-merror:0.12250\n",
      "[31]\ttrain-merror:0.12148\ttest-merror:0.12020\n",
      "[32]\ttrain-merror:0.11945\ttest-merror:0.11930\n",
      "[33]\ttrain-merror:0.11803\ttest-merror:0.11880\n",
      "[34]\ttrain-merror:0.11635\ttest-merror:0.11600\n",
      "[35]\ttrain-merror:0.11440\ttest-merror:0.11460\n",
      "[36]\ttrain-merror:0.11315\ttest-merror:0.11250\n",
      "[37]\ttrain-merror:0.11153\ttest-merror:0.11090\n",
      "[38]\ttrain-merror:0.11010\ttest-merror:0.11000\n",
      "[39]\ttrain-merror:0.10867\ttest-merror:0.10780\n",
      "[40]\ttrain-merror:0.10680\ttest-merror:0.10570\n",
      "[41]\ttrain-merror:0.10603\ttest-merror:0.10510\n",
      "[42]\ttrain-merror:0.10477\ttest-merror:0.10460\n",
      "[43]\ttrain-merror:0.10357\ttest-merror:0.10270\n",
      "[44]\ttrain-merror:0.10237\ttest-merror:0.10200\n",
      "[45]\ttrain-merror:0.10163\ttest-merror:0.10150\n",
      "[46]\ttrain-merror:0.10023\ttest-merror:0.10010\n",
      "[47]\ttrain-merror:0.09897\ttest-merror:0.09990\n",
      "[48]\ttrain-merror:0.09772\ttest-merror:0.09900\n",
      "[49]\ttrain-merror:0.09655\ttest-merror:0.09790\n",
      "CPU times: user 16min 1s, sys: 39.7 s, total: 16min 41s\n",
      "Wall time: 2min 58s\n"
     ]
    }
   ],
   "source": [
    "%%time\n",
    "from wideboost.helpers import onehot\n",
    "# wideboost uses the hessian for multi:softmax rather than 2 times the hessian as used in xgboost.\n",
    "# On Fashion MNIST at least, the hessian tends to perform better. xgb uses eta = 0.2 as a better comparison.\n",
    "param['eta'] = 0.1\n",
    "\n",
    "# 'btype' = 'I', 'beta_eta' = 0 and 'extra_dims' = 0 is equivalent to boosting\n",
    "param['extra_dims'] = 0\n",
    "param['btype'] = 'I'   \n",
    "param['beta_eta'] = 0\n",
    "\n",
    "# 'num_class' is replaced by 'output_dim'\n",
    "param['num_class'] = None\n",
    "param['output_dim'] = 10\n",
    "\n",
    "wxgb_results = dict()\n",
    "watchlist = [((xtrain, onehot(ytrain)),'train'),((xtest, onehot(ytest)),'test')]\n",
    "wbst = wxgb.fit(\n",
    "    xtrain, onehot(ytrain),\n",
    "    param, num_round, watchlist,evals_result=wxgb_results\n",
    ")"
   ]
  },
  {
   "cell_type": "code",
   "execution_count": 8,
   "metadata": {},
   "outputs": [
    {
     "name": "stdout",
     "output_type": "stream",
     "text": [
      "[0]\ttrain-merror:0.30663\ttest-merror:0.30730\n",
      "[1]\ttrain-merror:0.24965\ttest-merror:0.24790\n",
      "[2]\ttrain-merror:0.22025\ttest-merror:0.21770\n",
      "[3]\ttrain-merror:0.19958\ttest-merror:0.19530\n",
      "[4]\ttrain-merror:0.18380\ttest-merror:0.18260\n",
      "[5]\ttrain-merror:0.17270\ttest-merror:0.17330\n",
      "[6]\ttrain-merror:0.16268\ttest-merror:0.16080\n",
      "[7]\ttrain-merror:0.15338\ttest-merror:0.15240\n",
      "[8]\ttrain-merror:0.14540\ttest-merror:0.14450\n",
      "[9]\ttrain-merror:0.13782\ttest-merror:0.13730\n",
      "[10]\ttrain-merror:0.13158\ttest-merror:0.13320\n",
      "[11]\ttrain-merror:0.12590\ttest-merror:0.12720\n",
      "[12]\ttrain-merror:0.12127\ttest-merror:0.12240\n",
      "[13]\ttrain-merror:0.11688\ttest-merror:0.11960\n",
      "[14]\ttrain-merror:0.11350\ttest-merror:0.11600\n",
      "[15]\ttrain-merror:0.10953\ttest-merror:0.11230\n",
      "[16]\ttrain-merror:0.10627\ttest-merror:0.10930\n",
      "[17]\ttrain-merror:0.10345\ttest-merror:0.10680\n",
      "[18]\ttrain-merror:0.10060\ttest-merror:0.10250\n",
      "[19]\ttrain-merror:0.09785\ttest-merror:0.10200\n",
      "[20]\ttrain-merror:0.09585\ttest-merror:0.10060\n",
      "[21]\ttrain-merror:0.09323\ttest-merror:0.09820\n",
      "[22]\ttrain-merror:0.09100\ttest-merror:0.09580\n",
      "[23]\ttrain-merror:0.08915\ttest-merror:0.09280\n",
      "[24]\ttrain-merror:0.08802\ttest-merror:0.09120\n",
      "[25]\ttrain-merror:0.08582\ttest-merror:0.08980\n",
      "[26]\ttrain-merror:0.08415\ttest-merror:0.08860\n",
      "[27]\ttrain-merror:0.08255\ttest-merror:0.08630\n",
      "[28]\ttrain-merror:0.08103\ttest-merror:0.08630\n",
      "[29]\ttrain-merror:0.07978\ttest-merror:0.08500\n",
      "[30]\ttrain-merror:0.07862\ttest-merror:0.08400\n",
      "[31]\ttrain-merror:0.07730\ttest-merror:0.08190\n",
      "[32]\ttrain-merror:0.07613\ttest-merror:0.08210\n",
      "[33]\ttrain-merror:0.07538\ttest-merror:0.08120\n",
      "[34]\ttrain-merror:0.07367\ttest-merror:0.08010\n",
      "[35]\ttrain-merror:0.07240\ttest-merror:0.07900\n",
      "[36]\ttrain-merror:0.07150\ttest-merror:0.07760\n",
      "[37]\ttrain-merror:0.07013\ttest-merror:0.07640\n",
      "[38]\ttrain-merror:0.06912\ttest-merror:0.07550\n",
      "[39]\ttrain-merror:0.06798\ttest-merror:0.07310\n",
      "[40]\ttrain-merror:0.06698\ttest-merror:0.07230\n",
      "[41]\ttrain-merror:0.06618\ttest-merror:0.07130\n",
      "[42]\ttrain-merror:0.06553\ttest-merror:0.07090\n",
      "[43]\ttrain-merror:0.06460\ttest-merror:0.07020\n",
      "[44]\ttrain-merror:0.06372\ttest-merror:0.06900\n",
      "[45]\ttrain-merror:0.06282\ttest-merror:0.06870\n",
      "[46]\ttrain-merror:0.06220\ttest-merror:0.06750\n",
      "[47]\ttrain-merror:0.06165\ttest-merror:0.06700\n",
      "[48]\ttrain-merror:0.06090\ttest-merror:0.06650\n",
      "[49]\ttrain-merror:0.05988\ttest-merror:0.06570\n",
      "CPU times: user 31min 7s, sys: 54.1 s, total: 32min 1s\n",
      "Wall time: 5min 36s\n"
     ]
    }
   ],
   "source": [
    "%%time\n",
    "# Adding more dimensions fits more trees per round but also decreases loss with fewer boost rounds\n",
    "param['extra_dims'] = 10\n",
    "param['beta_eta'] = 0.001\n",
    "wxgb10_results = dict()\n",
    "wbst = wxgb.fit(\n",
    "    xtrain, onehot(ytrain),\n",
    "    param, num_round, watchlist, evals_result=wxgb10_results\n",
    ")"
   ]
  },
  {
   "cell_type": "code",
   "execution_count": 7,
   "metadata": {},
   "outputs": [
    {
     "data": {
      "image/png": "[encoded data removed]",
      "text/plain": [
       "<Figure size 432x288 with 1 Axes>"
      ]
     },
     "metadata": {
      "needs_background": "light"
     },
     "output_type": "display_data"
    }
   ],
   "source": [
    "plt.plot(xgb_results['test']['merror'], label='xgb eta=0.2')\n",
    "plt.plot(wxgb_results['test']['merror'], label='gb fit with wxgb eta=0.1')\n",
    "plt.plot(wxgb10_results['test']['merror'], label='wxgb eta0.1 q=20')\n",
    "plt.legend()\n",
    "plt.show()"
   ]
  },
  {
   "cell_type": "code",
   "execution_count": null,
   "metadata": {},
   "outputs": [],
   "source": []
  },
  {
   "cell_type": "code",
   "execution_count": null,
   "metadata": {},
   "outputs": [],
   "source": []
  }
 ],
 "metadata": {
  "kernelspec": {
   "display_name": "Python 3",
   "language": "python",
   "name": "python3"
  },
  "language_info": {
   "codemirror_mode": {
    "name": "ipython",
    "version": 3
   },
   "file_extension": ".py",
   "mimetype": "text/x-python",
   "name": "python",
   "nbconvert_exporter": "python",
   "pygments_lexer": "ipython3",
   "version": "3.8.3"
  }
 },
 "nbformat": 4,
 "nbformat_minor": 4
}
