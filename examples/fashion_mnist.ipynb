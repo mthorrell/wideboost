{
 "cells": [
  {
   "cell_type": "code",
   "execution_count": 1,
   "metadata": {},
   "outputs": [],
   "source": [
    "import time\n",
    "import numpy as np\n",
    "import xgboost as xgb\n",
    "from wideboost.wrappers import wxgb\n",
    "\n",
    "import tensorflow_datasets as tfds\n",
    "from matplotlib import pyplot as plt\n",
    "\n",
    "(ds_train, ds_test), ds_info = tfds.load(\n",
    "    'fashion_mnist',\n",
    "    split=['train', 'test'],\n",
    "    shuffle_files=False,\n",
    "    as_supervised=True,\n",
    "    with_info=True,\n",
    ")\n",
    "\n",
    "for i in ds_train.batch(60000):\n",
    "    a = i\n",
    "    \n",
    "for i in ds_test.batch(60000):\n",
    "    b = i"
   ]
  },
  {
   "cell_type": "code",
   "execution_count": 2,
   "metadata": {},
   "outputs": [],
   "source": [
    "xtrain = a[0].numpy().reshape([-1,28*28])\n",
    "ytrain = a[1].numpy()\n",
    "\n",
    "xtest = b[0].numpy().reshape([-1,28*28])\n",
    "ytest = b[1].numpy()\n",
    "\n",
    "dtrain = xgb.DMatrix(xtrain,label=ytrain)\n",
    "dtest = xgb.DMatrix(xtest,label=ytest)"
   ]
  },
  {
   "cell_type": "code",
   "execution_count": 10,
   "metadata": {},
   "outputs": [
    {
     "name": "stdout",
     "output_type": "stream",
     "text": [
      "[0]\ttrain-merror:0.32323\ttest-merror:0.33590\n",
      "[1]\ttrain-merror:0.28477\ttest-merror:0.29500\n",
      "[2]\ttrain-merror:0.27015\ttest-merror:0.27990\n",
      "[3]\ttrain-merror:0.25373\ttest-merror:0.26460\n",
      "[4]\ttrain-merror:0.24905\ttest-merror:0.25660\n",
      "[5]\ttrain-merror:0.24007\ttest-merror:0.25060\n",
      "[6]\ttrain-merror:0.23120\ttest-merror:0.24370\n",
      "[7]\ttrain-merror:0.22640\ttest-merror:0.23680\n",
      "[8]\ttrain-merror:0.22233\ttest-merror:0.23230\n",
      "[9]\ttrain-merror:0.21737\ttest-merror:0.22820\n",
      "[10]\ttrain-merror:0.21378\ttest-merror:0.22440\n",
      "[11]\ttrain-merror:0.20992\ttest-merror:0.22060\n",
      "[12]\ttrain-merror:0.20602\ttest-merror:0.21690\n",
      "[13]\ttrain-merror:0.20377\ttest-merror:0.21420\n",
      "[14]\ttrain-merror:0.20165\ttest-merror:0.21350\n",
      "[15]\ttrain-merror:0.19982\ttest-merror:0.21150\n",
      "[16]\ttrain-merror:0.19720\ttest-merror:0.20900\n",
      "[17]\ttrain-merror:0.19508\ttest-merror:0.20710\n",
      "[18]\ttrain-merror:0.19347\ttest-merror:0.20460\n",
      "[19]\ttrain-merror:0.19183\ttest-merror:0.20410\n",
      "[20]\ttrain-merror:0.19017\ttest-merror:0.20170\n",
      "[21]\ttrain-merror:0.18810\ttest-merror:0.19940\n",
      "[22]\ttrain-merror:0.18590\ttest-merror:0.19830\n",
      "[23]\ttrain-merror:0.18493\ttest-merror:0.19700\n",
      "[24]\ttrain-merror:0.18218\ttest-merror:0.19530\n",
      "[25]\ttrain-merror:0.18093\ttest-merror:0.19430\n",
      "[26]\ttrain-merror:0.17947\ttest-merror:0.19250\n",
      "[27]\ttrain-merror:0.17725\ttest-merror:0.19070\n",
      "[28]\ttrain-merror:0.17560\ttest-merror:0.18880\n",
      "[29]\ttrain-merror:0.17422\ttest-merror:0.18690\n",
      "[30]\ttrain-merror:0.17297\ttest-merror:0.18610\n",
      "[31]\ttrain-merror:0.17120\ttest-merror:0.18460\n",
      "[32]\ttrain-merror:0.16983\ttest-merror:0.18330\n",
      "[33]\ttrain-merror:0.16817\ttest-merror:0.18240\n",
      "[34]\ttrain-merror:0.16548\ttest-merror:0.18130\n",
      "[35]\ttrain-merror:0.16463\ttest-merror:0.18030\n",
      "[36]\ttrain-merror:0.16348\ttest-merror:0.17770\n",
      "[37]\ttrain-merror:0.16243\ttest-merror:0.17600\n",
      "[38]\ttrain-merror:0.16088\ttest-merror:0.17480\n",
      "[39]\ttrain-merror:0.15962\ttest-merror:0.17470\n",
      "[40]\ttrain-merror:0.15858\ttest-merror:0.17400\n",
      "[41]\ttrain-merror:0.15762\ttest-merror:0.17330\n",
      "[42]\ttrain-merror:0.15632\ttest-merror:0.17160\n",
      "[43]\ttrain-merror:0.15555\ttest-merror:0.16980\n",
      "[44]\ttrain-merror:0.15465\ttest-merror:0.16930\n",
      "[45]\ttrain-merror:0.15332\ttest-merror:0.16820\n",
      "[46]\ttrain-merror:0.15267\ttest-merror:0.16690\n",
      "[47]\ttrain-merror:0.15182\ttest-merror:0.16740\n",
      "[48]\ttrain-merror:0.15113\ttest-merror:0.16570\n",
      "[49]\ttrain-merror:0.14980\ttest-merror:0.16490\n",
      "CPU times: user 16min 46s, sys: 5.68 s, total: 16min 52s\n",
      "Wall time: 4min 40s\n"
     ]
    }
   ],
   "source": [
    "%%time\n",
    "param = {'max_depth':2, 'eta':0.2, 'objective':'multi:softmax','eval_metric':['merror'], 'num_class':10 }\n",
    "num_round = 50\n",
    "watchlist = [(dtrain,'train'),(dtest,'test')]\n",
    "xgb_results = dict()\n",
    "bst = xgb.train(param, dtrain, num_round,watchlist,evals_result=xgb_results)"
   ]
  },
  {
   "cell_type": "code",
   "execution_count": 4,
   "metadata": {},
   "outputs": [
    {
     "name": "stdout",
     "output_type": "stream",
     "text": [
      "[0]\ttrain-merror:0.32323\ttest-merror:0.33590\n",
      "[1]\ttrain-merror:0.28490\ttest-merror:0.29500\n",
      "[2]\ttrain-merror:0.27015\ttest-merror:0.27990\n",
      "[3]\ttrain-merror:0.25373\ttest-merror:0.26470\n",
      "[4]\ttrain-merror:0.24900\ttest-merror:0.25650\n",
      "[5]\ttrain-merror:0.24010\ttest-merror:0.25050\n",
      "[6]\ttrain-merror:0.23125\ttest-merror:0.24370\n",
      "[7]\ttrain-merror:0.22640\ttest-merror:0.23670\n",
      "[8]\ttrain-merror:0.22237\ttest-merror:0.23230\n",
      "[9]\ttrain-merror:0.21737\ttest-merror:0.22820\n",
      "[10]\ttrain-merror:0.21365\ttest-merror:0.22400\n",
      "[11]\ttrain-merror:0.20992\ttest-merror:0.22120\n",
      "[12]\ttrain-merror:0.20630\ttest-merror:0.21710\n",
      "[13]\ttrain-merror:0.20417\ttest-merror:0.21470\n",
      "[14]\ttrain-merror:0.20218\ttest-merror:0.21240\n",
      "[15]\ttrain-merror:0.19958\ttest-merror:0.21100\n",
      "[16]\ttrain-merror:0.19743\ttest-merror:0.20880\n",
      "[17]\ttrain-merror:0.19578\ttest-merror:0.20680\n",
      "[18]\ttrain-merror:0.19385\ttest-merror:0.20500\n",
      "[19]\ttrain-merror:0.19147\ttest-merror:0.20380\n",
      "[20]\ttrain-merror:0.19002\ttest-merror:0.20190\n",
      "[21]\ttrain-merror:0.18797\ttest-merror:0.19990\n",
      "[22]\ttrain-merror:0.18610\ttest-merror:0.19860\n",
      "[23]\ttrain-merror:0.18428\ttest-merror:0.19740\n",
      "[24]\ttrain-merror:0.18163\ttest-merror:0.19510\n",
      "[25]\ttrain-merror:0.18042\ttest-merror:0.19430\n",
      "[26]\ttrain-merror:0.17872\ttest-merror:0.19280\n",
      "[27]\ttrain-merror:0.17685\ttest-merror:0.19160\n",
      "[28]\ttrain-merror:0.17570\ttest-merror:0.19090\n",
      "[29]\ttrain-merror:0.17430\ttest-merror:0.18830\n",
      "[30]\ttrain-merror:0.17188\ttest-merror:0.18690\n",
      "[31]\ttrain-merror:0.17030\ttest-merror:0.18550\n",
      "[32]\ttrain-merror:0.16860\ttest-merror:0.18580\n",
      "[33]\ttrain-merror:0.16730\ttest-merror:0.18290\n",
      "[34]\ttrain-merror:0.16590\ttest-merror:0.18160\n",
      "[35]\ttrain-merror:0.16450\ttest-merror:0.17900\n",
      "[36]\ttrain-merror:0.16378\ttest-merror:0.17770\n",
      "[37]\ttrain-merror:0.16225\ttest-merror:0.17520\n",
      "[38]\ttrain-merror:0.16078\ttest-merror:0.17430\n",
      "[39]\ttrain-merror:0.15975\ttest-merror:0.17410\n",
      "[40]\ttrain-merror:0.15877\ttest-merror:0.17350\n",
      "[41]\ttrain-merror:0.15728\ttest-merror:0.17110\n",
      "[42]\ttrain-merror:0.15640\ttest-merror:0.17020\n",
      "[43]\ttrain-merror:0.15583\ttest-merror:0.17080\n",
      "[44]\ttrain-merror:0.15480\ttest-merror:0.16960\n",
      "[45]\ttrain-merror:0.15365\ttest-merror:0.17030\n",
      "[46]\ttrain-merror:0.15275\ttest-merror:0.16920\n",
      "[47]\ttrain-merror:0.15177\ttest-merror:0.16760\n",
      "[48]\ttrain-merror:0.15110\ttest-merror:0.16690\n",
      "[49]\ttrain-merror:0.14983\ttest-merror:0.16600\n",
      "CPU times: user 16min 51s, sys: 42.4 s, total: 17min 33s\n",
      "Wall time: 2min 53s\n"
     ]
    }
   ],
   "source": [
    "%%time\n",
    "from wideboost.helpers import onehot\n",
    "# wideboost uses the hessian for multi:softmax rather than 2 times the hessian as used in xgboost.\n",
    "# On Fashion MNIST at least, the hessian tends to perform better. xgb uses eta = 0.2 as a better comparison.\n",
    "param['eta'] = 0.1\n",
    "\n",
    "# 'btype' = 'I', 'beta_eta' = 0 and 'extra_dims' = 0 is equivalent to boosting\n",
    "param['extra_dims'] = 0\n",
    "param['btype'] = 'I'   \n",
    "param['beta_eta'] = 0\n",
    "\n",
    "# 'num_class' is replaced by 'output_dim'\n",
    "param['num_class'] = None\n",
    "param['output_dim'] = 10\n",
    "\n",
    "wxgb_results = dict()\n",
    "watchlist = [((xtrain, onehot(ytrain)),'train'),((xtest, onehot(ytest)),'test')]\n",
    "wbst = wxgb.fit(\n",
    "    xtrain, onehot(ytrain),\n",
    "    param, num_round, watchlist,evals_result=wxgb_results\n",
    ")"
   ]
  },
  {
   "cell_type": "code",
   "execution_count": 5,
   "metadata": {},
   "outputs": [
    {
     "name": "stdout",
     "output_type": "stream",
     "text": [
      "[0]\ttrain-merror:0.29837\ttest-merror:0.30780\n",
      "[1]\ttrain-merror:0.26010\ttest-merror:0.27030\n",
      "[2]\ttrain-merror:0.23873\ttest-merror:0.24940\n",
      "[3]\ttrain-merror:0.22453\ttest-merror:0.23530\n",
      "[4]\ttrain-merror:0.21422\ttest-merror:0.22570\n",
      "[5]\ttrain-merror:0.20788\ttest-merror:0.21840\n",
      "[6]\ttrain-merror:0.19997\ttest-merror:0.21070\n",
      "[7]\ttrain-merror:0.19425\ttest-merror:0.20500\n",
      "[8]\ttrain-merror:0.18903\ttest-merror:0.20050\n",
      "[9]\ttrain-merror:0.18458\ttest-merror:0.19540\n",
      "[10]\ttrain-merror:0.17950\ttest-merror:0.19290\n",
      "[11]\ttrain-merror:0.17558\ttest-merror:0.18900\n",
      "[12]\ttrain-merror:0.17268\ttest-merror:0.18570\n",
      "[13]\ttrain-merror:0.16873\ttest-merror:0.18200\n",
      "[14]\ttrain-merror:0.16555\ttest-merror:0.17890\n",
      "[15]\ttrain-merror:0.16292\ttest-merror:0.17590\n",
      "[16]\ttrain-merror:0.16057\ttest-merror:0.17340\n",
      "[17]\ttrain-merror:0.15758\ttest-merror:0.17050\n",
      "[18]\ttrain-merror:0.15610\ttest-merror:0.16950\n",
      "[19]\ttrain-merror:0.15358\ttest-merror:0.16740\n",
      "[20]\ttrain-merror:0.15093\ttest-merror:0.16670\n",
      "[21]\ttrain-merror:0.14913\ttest-merror:0.16510\n",
      "[22]\ttrain-merror:0.14707\ttest-merror:0.16230\n",
      "[23]\ttrain-merror:0.14578\ttest-merror:0.16110\n",
      "[24]\ttrain-merror:0.14438\ttest-merror:0.15950\n",
      "[25]\ttrain-merror:0.14315\ttest-merror:0.15940\n",
      "[26]\ttrain-merror:0.14190\ttest-merror:0.15890\n",
      "[27]\ttrain-merror:0.14042\ttest-merror:0.15710\n",
      "[28]\ttrain-merror:0.13872\ttest-merror:0.15590\n",
      "[29]\ttrain-merror:0.13662\ttest-merror:0.15550\n",
      "[30]\ttrain-merror:0.13528\ttest-merror:0.15440\n",
      "[31]\ttrain-merror:0.13408\ttest-merror:0.15270\n",
      "[32]\ttrain-merror:0.13300\ttest-merror:0.15180\n",
      "[33]\ttrain-merror:0.13212\ttest-merror:0.15130\n",
      "[34]\ttrain-merror:0.13117\ttest-merror:0.15120\n",
      "[35]\ttrain-merror:0.12970\ttest-merror:0.15070\n",
      "[36]\ttrain-merror:0.12853\ttest-merror:0.15070\n",
      "[37]\ttrain-merror:0.12763\ttest-merror:0.14900\n",
      "[38]\ttrain-merror:0.12662\ttest-merror:0.14900\n",
      "[39]\ttrain-merror:0.12552\ttest-merror:0.14830\n",
      "[40]\ttrain-merror:0.12450\ttest-merror:0.14770\n",
      "[41]\ttrain-merror:0.12385\ttest-merror:0.14830\n",
      "[42]\ttrain-merror:0.12342\ttest-merror:0.14780\n",
      "[43]\ttrain-merror:0.12238\ttest-merror:0.14570\n",
      "[44]\ttrain-merror:0.12155\ttest-merror:0.14500\n",
      "[45]\ttrain-merror:0.12020\ttest-merror:0.14420\n",
      "[46]\ttrain-merror:0.11962\ttest-merror:0.14400\n",
      "[47]\ttrain-merror:0.11868\ttest-merror:0.14370\n",
      "[48]\ttrain-merror:0.11760\ttest-merror:0.14350\n",
      "[49]\ttrain-merror:0.11717\ttest-merror:0.14310\n",
      "CPU times: user 32min 54s, sys: 48 s, total: 33min 42s\n",
      "Wall time: 5min 40s\n"
     ]
    }
   ],
   "source": [
    "%%time\n",
    "# Adding more dimensions fits more trees per round but also decreases loss with fewer boost rounds\n",
    "param['extra_dims'] = 10\n",
    "wxgb10_results = dict()\n",
    "wbst = wxgb.fit(\n",
    "    xtrain, onehot(ytrain),\n",
    "    param, num_round, watchlist, evals_result=wxgb10_results\n",
    ")"
   ]
  },
  {
   "cell_type": "code",
   "execution_count": 9,
   "metadata": {},
   "outputs": [
    {
     "data": {
      "image/png": "[encoded data removed]",
      "text/plain": [
       "<Figure size 432x288 with 1 Axes>"
      ]
     },
     "metadata": {
      "needs_background": "light"
     },
     "output_type": "display_data"
    }
   ],
   "source": [
    "plt.plot(xgb_results['test']['merror'], label='xgb eta=0.2')\n",
    "plt.plot(wxgb_results['test']['merror'], label='gb fit with wxg eta=0.1')\n",
    "plt.plot(wxgb10_results['test']['merror'], label='wxgb eta0.1 q=20')\n",
    "plt.legend()\n",
    "plt.show()"
   ]
  },
  {
   "cell_type": "code",
   "execution_count": null,
   "metadata": {},
   "outputs": [],
   "source": []
  }
 ],
 "metadata": {
  "kernelspec": {
   "display_name": "Python 3",
   "language": "python",
   "name": "python3"
  },
  "language_info": {
   "codemirror_mode": {
    "name": "ipython",
    "version": 3
   },
   "file_extension": ".py",
   "mimetype": "text/x-python",
   "name": "python",
   "nbconvert_exporter": "python",
   "pygments_lexer": "ipython3",
   "version": "3.8.3"
  }
 },
 "nbformat": 4,
 "nbformat_minor": 4
}
