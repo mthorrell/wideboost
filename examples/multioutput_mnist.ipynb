{
 "cells": [
  {
   "cell_type": "code",
   "execution_count": 1,
   "metadata": {},
   "outputs": [],
   "source": [
    "import sys\n",
    "import time\n",
    "from wideboost.wrappers import wxgb\n",
    "import numpy as np\n",
    "import xgboost as xgb\n",
    "\n",
    "import tensorflow_datasets as tfds\n",
    "from matplotlib import pyplot as plt\n",
    "\n",
    "(ds_train, ds_test), ds_info = tfds.load(\n",
    "    'mnist',\n",
    "    split=['train', 'test'],\n",
    "    shuffle_files=False,\n",
    "    as_supervised=True,\n",
    "    with_info=True,\n",
    ")\n",
    "\n",
    "for i in ds_train.batch(60000):\n",
    "    a = i\n",
    "    \n",
    "for i in ds_test.batch(60000):\n",
    "    b = i"
   ]
  },
  {
   "cell_type": "code",
   "execution_count": 7,
   "metadata": {},
   "outputs": [],
   "source": [
    "xtrain = a[0].numpy().reshape([-1,28*28])\n",
    "ytrain = a[1].numpy()\n",
    "\n",
    "xtest = b[0].numpy().reshape([-1,28*28])\n",
    "ytest = b[1].numpy()"
   ]
  },
  {
   "cell_type": "code",
   "execution_count": 8,
   "metadata": {},
   "outputs": [],
   "source": [
    "def _onehot(Y):\n",
    "    b = np.zeros((Y.shape[0], Y.max().astype(int)+1))\n",
    "    b[np.arange(Y.shape[0]),Y.astype(int).flatten()] = 1\n",
    "    return b"
   ]
  },
  {
   "cell_type": "code",
   "execution_count": 9,
   "metadata": {},
   "outputs": [],
   "source": [
    "# subset for speed\n",
    "def get_data(seed):\n",
    "    np.random.seed(seed)\n",
    "    train_idx = np.random.choice(range(xtrain.shape[0]), round(xtrain.shape[0] * 0.7), replace=False)\n",
    "    valid_idx = np.array(list(set(range(xtrain.shape[0])) - set(train_idx)))\n",
    "    train_idx = np.random.choice(train_idx, 3_000, replace=False)\n",
    "    valid_idx = np.random.choice(valid_idx, 2_000, replace=False)\n",
    "\n",
    "    test_idx = np.random.choice(range(xtest.shape[0]), 1_000, replace=False)\n",
    "\n",
    "    features = np.random.choice(range(xtrain.shape[1]), 200, replace=False)\n",
    "\n",
    "\n",
    "    y_train = _onehot(ytrain[train_idx])\n",
    "    y_valid = _onehot(ytrain[valid_idx])\n",
    "    y_test =  _onehot(ytest[test_idx])\n",
    "\n",
    "    return (\n",
    "        xtrain[train_idx[:,None], features],\n",
    "        xtrain[valid_idx[:,None], features],\n",
    "        xtest[test_idx[:,None], features], y_train, y_valid, y_test\n",
    "    )"
   ]
  },
  {
   "cell_type": "code",
   "execution_count": 10,
   "metadata": {},
   "outputs": [],
   "source": [
    "x_train, x_valid, x_test, y_train, y_valid, y_test = get_data(10101)"
   ]
  },
  {
   "cell_type": "code",
   "execution_count": 25,
   "metadata": {},
   "outputs": [
    {
     "name": "stdout",
     "output_type": "stream",
     "text": [
      "[0]\tvalidation_0-logloss:0.60945\tvalidation_1-logloss:0.61323\tvalidation_2-logloss:0.61270\n",
      "[10]\tvalidation_0-logloss:0.22478\tvalidation_1-logloss:0.25102\tvalidation_2-logloss:0.24946\n",
      "[20]\tvalidation_0-logloss:0.10423\tvalidation_1-logloss:0.14178\tvalidation_2-logloss:0.14176\n",
      "[30]\tvalidation_0-logloss:0.05604\tvalidation_1-logloss:0.09851\tvalidation_2-logloss:0.09957\n",
      "[40]\tvalidation_0-logloss:0.03410\tvalidation_1-logloss:0.08018\tvalidation_2-logloss:0.08157\n",
      "[50]\tvalidation_0-logloss:0.02287\tvalidation_1-logloss:0.07165\tvalidation_2-logloss:0.07293\n",
      "[60]\tvalidation_0-logloss:0.01642\tvalidation_1-logloss:0.06727\tvalidation_2-logloss:0.06818\n",
      "[70]\tvalidation_0-logloss:0.01243\tvalidation_1-logloss:0.06485\tvalidation_2-logloss:0.06546\n",
      "[80]\tvalidation_0-logloss:0.00975\tvalidation_1-logloss:0.06300\tvalidation_2-logloss:0.06362\n",
      "[90]\tvalidation_0-logloss:0.00793\tvalidation_1-logloss:0.06219\tvalidation_2-logloss:0.06247\n",
      "[100]\tvalidation_0-logloss:0.00665\tvalidation_1-logloss:0.06145\tvalidation_2-logloss:0.06179\n",
      "[110]\tvalidation_0-logloss:0.00571\tvalidation_1-logloss:0.06097\tvalidation_2-logloss:0.06133\n",
      "[120]\tvalidation_0-logloss:0.00498\tvalidation_1-logloss:0.06081\tvalidation_2-logloss:0.06084\n",
      "[130]\tvalidation_0-logloss:0.00444\tvalidation_1-logloss:0.06060\tvalidation_2-logloss:0.06066\n",
      "[140]\tvalidation_0-logloss:0.00401\tvalidation_1-logloss:0.06067\tvalidation_2-logloss:0.06054\n",
      "[150]\tvalidation_0-logloss:0.00367\tvalidation_1-logloss:0.06071\tvalidation_2-logloss:0.06052\n",
      "[160]\tvalidation_0-logloss:0.00339\tvalidation_1-logloss:0.06070\tvalidation_2-logloss:0.06048\n",
      "[170]\tvalidation_0-logloss:0.00317\tvalidation_1-logloss:0.06072\tvalidation_2-logloss:0.06021\n",
      "[180]\tvalidation_0-logloss:0.00298\tvalidation_1-logloss:0.06068\tvalidation_2-logloss:0.06006\n",
      "[190]\tvalidation_0-logloss:0.00281\tvalidation_1-logloss:0.06074\tvalidation_2-logloss:0.06007\n",
      "[199]\tvalidation_0-logloss:0.00267\tvalidation_1-logloss:0.06059\tvalidation_2-logloss:0.06000\n"
     ]
    },
    {
     "data": {
      "text/html": [
       "<style>#sk-container-id-2 {color: black;background-color: white;}#sk-container-id-2 pre{padding: 0;}#sk-container-id-2 div.sk-toggleable {background-color: white;}#sk-container-id-2 label.sk-toggleable__label {cursor: pointer;display: block;width: 100%;margin-bottom: 0;padding: 0.3em;box-sizing: border-box;text-align: center;}#sk-container-id-2 label.sk-toggleable__label-arrow:before {content: \"▸\";float: left;margin-right: 0.25em;color: #696969;}#sk-container-id-2 label.sk-toggleable__label-arrow:hover:before {color: black;}#sk-container-id-2 div.sk-estimator:hover label.sk-toggleable__label-arrow:before {color: black;}#sk-container-id-2 div.sk-toggleable__content {max-height: 0;max-width: 0;overflow: hidden;text-align: left;background-color: #f0f8ff;}#sk-container-id-2 div.sk-toggleable__content pre {margin: 0.2em;color: black;border-radius: 0.25em;background-color: #f0f8ff;}#sk-container-id-2 input.sk-toggleable__control:checked~div.sk-toggleable__content {max-height: 200px;max-width: 100%;overflow: auto;}#sk-container-id-2 input.sk-toggleable__control:checked~label.sk-toggleable__label-arrow:before {content: \"▾\";}#sk-container-id-2 div.sk-estimator input.sk-toggleable__control:checked~label.sk-toggleable__label {background-color: #d4ebff;}#sk-container-id-2 div.sk-label input.sk-toggleable__control:checked~label.sk-toggleable__label {background-color: #d4ebff;}#sk-container-id-2 input.sk-hidden--visually {border: 0;clip: rect(1px 1px 1px 1px);clip: rect(1px, 1px, 1px, 1px);height: 1px;margin: -1px;overflow: hidden;padding: 0;position: absolute;width: 1px;}#sk-container-id-2 div.sk-estimator {font-family: monospace;background-color: #f0f8ff;border: 1px dotted black;border-radius: 0.25em;box-sizing: border-box;margin-bottom: 0.5em;}#sk-container-id-2 div.sk-estimator:hover {background-color: #d4ebff;}#sk-container-id-2 div.sk-parallel-item::after {content: \"\";width: 100%;border-bottom: 1px solid gray;flex-grow: 1;}#sk-container-id-2 div.sk-label:hover label.sk-toggleable__label {background-color: #d4ebff;}#sk-container-id-2 div.sk-serial::before {content: \"\";position: absolute;border-left: 1px solid gray;box-sizing: border-box;top: 0;bottom: 0;left: 50%;z-index: 0;}#sk-container-id-2 div.sk-serial {display: flex;flex-direction: column;align-items: center;background-color: white;padding-right: 0.2em;padding-left: 0.2em;position: relative;}#sk-container-id-2 div.sk-item {position: relative;z-index: 1;}#sk-container-id-2 div.sk-parallel {display: flex;align-items: stretch;justify-content: center;background-color: white;position: relative;}#sk-container-id-2 div.sk-item::before, #sk-container-id-2 div.sk-parallel-item::before {content: \"\";position: absolute;border-left: 1px solid gray;box-sizing: border-box;top: 0;bottom: 0;left: 50%;z-index: -1;}#sk-container-id-2 div.sk-parallel-item {display: flex;flex-direction: column;z-index: 1;position: relative;background-color: white;}#sk-container-id-2 div.sk-parallel-item:first-child::after {align-self: flex-end;width: 50%;}#sk-container-id-2 div.sk-parallel-item:last-child::after {align-self: flex-start;width: 50%;}#sk-container-id-2 div.sk-parallel-item:only-child::after {width: 0;}#sk-container-id-2 div.sk-dashed-wrapped {border: 1px dashed gray;margin: 0 0.4em 0.5em 0.4em;box-sizing: border-box;padding-bottom: 0.4em;background-color: white;}#sk-container-id-2 div.sk-label label {font-family: monospace;font-weight: bold;display: inline-block;line-height: 1.2em;}#sk-container-id-2 div.sk-label-container {text-align: center;}#sk-container-id-2 div.sk-container {/* jupyter's `normalize.less` sets `[hidden] { display: none; }` but bootstrap.min.css set `[hidden] { display: none !important; }` so we also need the `!important` here to be able to override the default hidden behavior on the sphinx rendered scikit-learn.org. See: https://github.com/scikit-learn/scikit-learn/issues/21755 */display: inline-block !important;position: relative;}#sk-container-id-2 div.sk-text-repr-fallback {display: none;}</style><div id=\"sk-container-id-2\" class=\"sk-top-container\"><div class=\"sk-text-repr-fallback\"><pre>XGBClassifier(base_score=0.5, booster=&#x27;gbtree&#x27;, callbacks=None,\n",
       "              colsample_bylevel=1, colsample_bynode=1, colsample_bytree=1,\n",
       "              early_stopping_rounds=None, enable_categorical=False, eta=0.1,\n",
       "              eval_metric=&#x27;logloss&#x27;, gamma=0, gpu_id=-1,\n",
       "              grow_policy=&#x27;depthwise&#x27;, importance_type=None,\n",
       "              interaction_constraints=&#x27;&#x27;, learning_rate=0.100000001,\n",
       "              max_bin=256, max_cat_to_onehot=4, max_delta_step=0, max_depth=6,\n",
       "              max_leaves=0, min_child_weight=1, missing=nan,\n",
       "              monotone_constraints=&#x27;()&#x27;, n_estimators=200, n_jobs=0,\n",
       "              num_parallel_tree=1, predictor=&#x27;auto&#x27;, random_state=0,\n",
       "              reg_alpha=0, ...)</pre><b>In a Jupyter environment, please rerun this cell to show the HTML representation or trust the notebook. <br />On GitHub, the HTML representation is unable to render, please try loading this page with nbviewer.org.</b></div><div class=\"sk-container\" hidden><div class=\"sk-item\"><div class=\"sk-estimator sk-toggleable\"><input class=\"sk-toggleable__control sk-hidden--visually\" id=\"sk-estimator-id-2\" type=\"checkbox\" checked><label for=\"sk-estimator-id-2\" class=\"sk-toggleable__label sk-toggleable__label-arrow\">XGBClassifier</label><div class=\"sk-toggleable__content\"><pre>XGBClassifier(base_score=0.5, booster=&#x27;gbtree&#x27;, callbacks=None,\n",
       "              colsample_bylevel=1, colsample_bynode=1, colsample_bytree=1,\n",
       "              early_stopping_rounds=None, enable_categorical=False, eta=0.1,\n",
       "              eval_metric=&#x27;logloss&#x27;, gamma=0, gpu_id=-1,\n",
       "              grow_policy=&#x27;depthwise&#x27;, importance_type=None,\n",
       "              interaction_constraints=&#x27;&#x27;, learning_rate=0.100000001,\n",
       "              max_bin=256, max_cat_to_onehot=4, max_delta_step=0, max_depth=6,\n",
       "              max_leaves=0, min_child_weight=1, missing=nan,\n",
       "              monotone_constraints=&#x27;()&#x27;, n_estimators=200, n_jobs=0,\n",
       "              num_parallel_tree=1, predictor=&#x27;auto&#x27;, random_state=0,\n",
       "              reg_alpha=0, ...)</pre></div></div></div></div></div>"
      ],
      "text/plain": [
       "XGBClassifier(base_score=0.5, booster='gbtree', callbacks=None,\n",
       "              colsample_bylevel=1, colsample_bynode=1, colsample_bytree=1,\n",
       "              early_stopping_rounds=None, enable_categorical=False, eta=0.1,\n",
       "              eval_metric='logloss', gamma=0, gpu_id=-1,\n",
       "              grow_policy='depthwise', importance_type=None,\n",
       "              interaction_constraints='', learning_rate=0.100000001,\n",
       "              max_bin=256, max_cat_to_onehot=4, max_delta_step=0, max_depth=6,\n",
       "              max_leaves=0, min_child_weight=1, missing=nan,\n",
       "              monotone_constraints='()', n_estimators=200, n_jobs=0,\n",
       "              num_parallel_tree=1, predictor='auto', random_state=0,\n",
       "              reg_alpha=0, ...)"
      ]
     },
     "execution_count": 25,
     "metadata": {},
     "output_type": "execute_result"
    }
   ],
   "source": [
    "clf = xgb.XGBClassifier(\n",
    "    n_estimators=200,\n",
    "    eta=0.1,\n",
    "    eval_metric='logloss'\n",
    ")\n",
    "clf.fit(x_train, y_train, verbose=10, eval_set=[\n",
    "    (x_train, y_train),\n",
    "    (x_test, y_test),\n",
    "    (x_valid, y_valid)\n",
    "])\n"
   ]
  },
  {
   "cell_type": "code",
   "execution_count": 13,
   "metadata": {},
   "outputs": [
    {
     "name": "stdout",
     "output_type": "stream",
     "text": [
      "[0]\ttrain-many_logloss:0.60945\ttest-many_logloss:0.61323\tvalid-many_logloss:0.61270\n",
      "[10]\ttrain-many_logloss:0.22478\ttest-many_logloss:0.25102\tvalid-many_logloss:0.24946\n",
      "[20]\ttrain-many_logloss:0.10423\ttest-many_logloss:0.14178\tvalid-many_logloss:0.14175\n",
      "[30]\ttrain-many_logloss:0.05604\ttest-many_logloss:0.09851\tvalid-many_logloss:0.09957\n",
      "[40]\ttrain-many_logloss:0.03410\ttest-many_logloss:0.08018\tvalid-many_logloss:0.08157\n",
      "[50]\ttrain-many_logloss:0.02286\ttest-many_logloss:0.07165\tvalid-many_logloss:0.07293\n",
      "[60]\ttrain-many_logloss:0.01642\ttest-many_logloss:0.06727\tvalid-many_logloss:0.06818\n",
      "[70]\ttrain-many_logloss:0.01243\ttest-many_logloss:0.06485\tvalid-many_logloss:0.06546\n",
      "[80]\ttrain-many_logloss:0.00975\ttest-many_logloss:0.06300\tvalid-many_logloss:0.06362\n",
      "[90]\ttrain-many_logloss:0.00793\ttest-many_logloss:0.06219\tvalid-many_logloss:0.06247\n",
      "[99]\ttrain-many_logloss:0.00677\ttest-many_logloss:0.06149\tvalid-many_logloss:0.06186\n"
     ]
    },
    {
     "data": {
      "text/plain": [
       "<wideboost.wrappers.wxgb.wxgb at 0x7fa5bef57a60>"
      ]
     },
     "execution_count": 13,
     "metadata": {},
     "output_type": "execute_result"
    }
   ],
   "source": [
    "watchlist = [\n",
    "    ((x_train, y_train),'train'),\n",
    "    ((x_test, y_test), 'test'),\n",
    "    ((x_valid, y_valid), 'valid')\n",
    "]\n",
    "\n",
    "param = {\n",
    "    'btype': 'I',\n",
    "    'beta_eta': 0,\n",
    "    'extra_dims': 0,\n",
    "    'eval_metric': 'many_logloss',\n",
    "    'eta': 0.1,\n",
    "    'objective': 'manybinary:logistic',\n",
    "    'output_dim': 10\n",
    "}\n",
    "xgb_results = {}\n",
    "num_round = 100\n",
    "wxgb.fit(\n",
    "            x_train, y_train,\n",
    "            param, num_round, watchlist,\n",
    "            evals_result=xgb_results,\n",
    "            verbose_eval=10\n",
    "        )"
   ]
  },
  {
   "cell_type": "code",
   "execution_count": 40,
   "metadata": {},
   "outputs": [
    {
     "name": "stdout",
     "output_type": "stream",
     "text": [
      "[0]\ttrain-many_logloss:0.34513\ttest-many_logloss:0.35045\tvalid-many_logloss:0.34857\n",
      "[10]\ttrain-many_logloss:0.06610\ttest-many_logloss:0.10643\tvalid-many_logloss:0.10614\n",
      "[20]\ttrain-many_logloss:0.02407\ttest-many_logloss:0.07151\tvalid-many_logloss:0.07097\n",
      "[30]\ttrain-many_logloss:0.01121\ttest-many_logloss:0.06186\tvalid-many_logloss:0.06072\n",
      "[40]\ttrain-many_logloss:0.00621\ttest-many_logloss:0.05886\tvalid-many_logloss:0.05740\n",
      "[50]\ttrain-many_logloss:0.00389\ttest-many_logloss:0.05813\tvalid-many_logloss:0.05622\n",
      "[60]\ttrain-many_logloss:0.00270\ttest-many_logloss:0.05797\tvalid-many_logloss:0.05570\n",
      "[70]\ttrain-many_logloss:0.00203\ttest-many_logloss:0.05834\tvalid-many_logloss:0.05568\n",
      "[80]\ttrain-many_logloss:0.00161\ttest-many_logloss:0.05864\tvalid-many_logloss:0.05587\n",
      "[90]\ttrain-many_logloss:0.00133\ttest-many_logloss:0.05903\tvalid-many_logloss:0.05617\n",
      "[99]\ttrain-many_logloss:0.00115\ttest-many_logloss:0.05933\tvalid-many_logloss:0.05642\n"
     ]
    },
    {
     "data": {
      "text/plain": [
       "<wideboost.wrappers.wxgb.wxgb at 0x7fa5995fe100>"
      ]
     },
     "execution_count": 40,
     "metadata": {},
     "output_type": "execute_result"
    }
   ],
   "source": [
    "watchlist = [\n",
    "    ((x_train, y_train),'train'),\n",
    "    ((x_test, y_test), 'test'),\n",
    "    ((x_valid, y_valid), 'valid')\n",
    "]\n",
    "\n",
    "param = {\n",
    "    'btype': 'I',\n",
    "    'beta_eta': 0.01,\n",
    "    'extra_dims': 10,\n",
    "    'eval_metric': 'many_logloss',\n",
    "    'eta': 0.1,\n",
    "    'objective': 'manybinary:logistic',\n",
    "    'output_dim': 10\n",
    "}\n",
    "wxgb_results = {}\n",
    "num_round = 100\n",
    "wxgb.fit(\n",
    "            x_train, y_train,\n",
    "            param, num_round, watchlist,\n",
    "            evals_result=wxgb_results,\n",
    "            verbose_eval=10\n",
    "        )"
   ]
  },
  {
   "cell_type": "code",
   "execution_count": 43,
   "metadata": {},
   "outputs": [
    {
     "data": {
      "image/png": "[encoded data removed]",
      "text/plain": [
       "<Figure size 432x288 with 1 Axes>"
      ]
     },
     "metadata": {
      "needs_background": "light"
     },
     "output_type": "display_data"
    }
   ],
   "source": [
    "from matplotlib import pyplot as plt\n",
    "# xgb.XGBClassifier matches GB fit using wxgb exactly\n",
    "# WB outperforms GB by fitting trees related through beta\n",
    "# log-log plots to make the relationship clearer\n",
    "plt.plot(np.log(np.arange(200)+1),np.log(clf.evals_result()['validation_0']['logloss']), label='xgb')\n",
    "plt.plot(np.log(np.arange(100)+1),np.log(xgb_results['train']['many_logloss']), label='gb fit with wxgb')\n",
    "plt.plot(np.log(np.arange(100)+1),np.log(wxgb_results['train']['many_logloss']), label='wxgb q=20')\n",
    "plt.legend()\n",
    "plt.title('training logloss')\n",
    "plt.xlabel('log(rounds)')\n",
    "plt.ylabel('log(logloss)')\n",
    "plt.show()"
   ]
  },
  {
   "cell_type": "code",
   "execution_count": 31,
   "metadata": {},
   "outputs": [
    {
     "data": {
      "text/plain": [
       "[<matplotlib.lines.Line2D at 0x7fa598f74550>]"
      ]
     },
     "execution_count": 31,
     "metadata": {},
     "output_type": "execute_result"
    },
    {
     "data": {
      "image/png": "[encoded data removed]",
      "text/plain": [
       "<Figure size 432x288 with 1 Axes>"
      ]
     },
     "metadata": {
      "needs_background": "light"
     },
     "output_type": "display_data"
    }
   ],
   "source": [
    "# Controlling for number of trees, wxgb achieves lower test loss\n",
    "plt.plot(np.log(np.arange(200)+1), np.log(clf.evals_result()['validation_1']['logloss']), label='xgb')\n",
    "plt.plot(np.log(2*(np.arange(100)+1)),np.log(wxgb_results['test']['many_logloss']), label='wxgb q=20')"
   ]
  },
  {
   "cell_type": "code",
   "execution_count": null,
   "metadata": {},
   "outputs": [],
   "source": []
  }
 ],
 "metadata": {
  "kernelspec": {
   "display_name": "Python 3",
   "language": "python",
   "name": "python3"
  },
  "language_info": {
   "codemirror_mode": {
    "name": "ipython",
    "version": 3
   },
   "file_extension": ".py",
   "mimetype": "text/x-python",
   "name": "python",
   "nbconvert_exporter": "python",
   "pygments_lexer": "ipython3",
   "version": "3.8.3"
  }
 },
 "nbformat": 4,
 "nbformat_minor": 4
}
